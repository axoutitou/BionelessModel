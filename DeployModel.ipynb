{
 "cells": [
  {
   "cell_type": "code",
   "execution_count": 1,
   "metadata": {},
   "outputs": [],
   "source": [
    "from azureml.core import Workspace\n",
    "ws = Workspace.from_config()"
   ]
  },
  {
   "cell_type": "code",
   "execution_count": 2,
   "metadata": {},
   "outputs": [
    {
     "name": "stdout",
     "output_type": "stream",
     "text": [
      "Model(workspace=Workspace.create(name='ws-projet-transverse-bioneless', subscription_id='ba047aef-dd20-494c-9c7e-2d86764842a6', resource_group='rg-projet-transverse-bioneless'), name=bionelessModel_SWR, id=bionelessModel_SWR:1, version=1, tags={}, properties={})\n",
      "Model(workspace=Workspace.create(name='ws-projet-transverse-bioneless', subscription_id='ba047aef-dd20-494c-9c7e-2d86764842a6', resource_group='rg-projet-transverse-bioneless'), name=transformer_SWR, id=transformer_SWR:1, version=1, tags={}, properties={})\n",
      "Model(workspace=Workspace.create(name='ws-projet-transverse-bioneless', subscription_id='ba047aef-dd20-494c-9c7e-2d86764842a6', resource_group='rg-projet-transverse-bioneless'), name=translater_SWR, id=translater_SWR:1, version=1, tags={}, properties={})\n"
     ]
    }
   ],
   "source": [
    "from azureml.core.model import Model\n",
    "\n",
    "model = Model(ws, name='bionelessModel_SWR')\n",
    "transformer = Model(ws, name='transformer_SWR')\n",
    "translater = Model(ws, name='translater_SWR')\n",
    "print(model)\n",
    "print(transformer)\n",
    "print(translater)"
   ]
  },
  {
   "cell_type": "code",
   "execution_count": 3,
   "metadata": {},
   "outputs": [],
   "source": [
    "from azureml.core.model import InferenceConfig\n",
    "from azureml.core.environment import Environment\n",
    "from azureml.core.conda_dependencies import CondaDependencies\n",
    "\n",
    "# Create the environment\n",
    "myenv = Environment(name=\"bioneless_env\")\n",
    "conda_dep = CondaDependencies()\n",
    "\n",
    "# Define the packages needed by the model and scripts\n",
    "conda_dep.add_conda_package(\"numpy\")\n",
    "conda_dep.add_conda_package(\"pandas\")\n",
    "conda_dep.add_conda_package(\"scikit-learn\")\n",
    "# You must list azureml-defaults as a pip dependency\n",
    "conda_dep.add_pip_package(\"azureml-defaults\")\n",
    "conda_dep.add_pip_package(\"lightgbm\")\n",
    "\n",
    "# Adds dependencies to PythonSection of myenv\n",
    "myenv.python.conda_dependencies=conda_dep\n",
    "\n",
    "inference_config = InferenceConfig(entry_script=\"Entry_script.py\", environment=myenv)"
   ]
  },
  {
   "cell_type": "code",
   "execution_count": 4,
   "metadata": {},
   "outputs": [],
   "source": [
    "from azureml.core.webservice import AciWebservice\n",
    "deployment_config = AciWebservice.deploy_configuration(cpu_cores = 1, memory_gb = 1)\n",
    "\n",
    "#DEBUG\n",
    "#from azureml.core.webservice import LocalWebservice\n",
    "#deployment_config = LocalWebservice.deploy_configuration(port=8890)"
   ]
  },
  {
   "cell_type": "code",
   "execution_count": 5,
   "metadata": {},
   "outputs": [
    {
     "name": "stdout",
     "output_type": "stream",
     "text": [
      "Tips: You can try get_logs(): https://aka.ms/debugimage#dockerlog or local deployment: https://aka.ms/debugimage#debug-locally to debug if deployment takes longer than 10 minutes.\n",
      "Running...............................\n",
      "Succeeded\n",
      "ACI service creation operation finished, operation \"Succeeded\"\n",
      "Healthy\n"
     ]
    }
   ],
   "source": [
    "service_name = \"bioneless-service-swr\"\n",
    "service = Model.deploy(ws, service_name, [model, transformer, translater], inference_config, deployment_config)\n",
    "service.wait_for_deployment(show_output = True)\n",
    "print(service.state)"
   ]
  },
  {
   "cell_type": "code",
   "execution_count": 9,
   "metadata": {},
   "outputs": [
    {
     "name": "stdout",
     "output_type": "stream",
     "text": [
      "http://8be0dbc9-8b18-4e2e-b9ce-77c0b7e0b626.westeurope.azurecontainer.io/score\n"
     ]
    }
   ],
   "source": [
    "scoring_uri = service.scoring_uri\n",
    "print(scoring_uri)"
   ]
  },
  {
   "cell_type": "code",
   "execution_count": 7,
   "metadata": {},
   "outputs": [
    {
     "name": "stdout",
     "output_type": "stream",
     "text": [
      "## DATA ##\n",
      "[{\"0\": 1.6927522, \"1\": 9.265843, \"2\": -2.238647, \"3\": 0.0033554828, \"4\": 0.01798815, \"5\": 0.0039095376}, {\"0\": -0.40463245, \"1\": 9.486116, \"2\": -2.0159793, \"3\": 0.3659877, \"4\": -0.069383904, \"5\": 0.097713396}, {\"0\": -0.40463245, \"1\": 9.486116, \"2\": -2.0159793, \"3\": 0.3659877, \"4\": -0.069383904, \"5\": 0.097713396}]\n",
      "##########\n",
      "\n"
     ]
    }
   ],
   "source": [
    "import requests\n",
    "import json\n",
    "import pandas as pd\n",
    "\n",
    "file = \"MouvementData-01-03-2021 10-49-28.csv\"\n",
    "\n",
    "headers = {'Content-Type':'application/json'}\n",
    "\n",
    "test_data = json.dumps([\n",
    "                       {\"0\": 1.6927522, \"1\": 9.265843, \"2\": -2.238647, \"3\": 0.0033554828, \"4\": 0.01798815, \"5\": 0.0039095376},\n",
    "                       {\"0\": -0.40463245, \"1\": 9.486116, \"2\": -2.0159793, \"3\": 0.3659877, \"4\": -0.069383904, \"5\": 0.097713396},\n",
    "                       {\"0\": -0.40463245, \"1\": 9.486116, \"2\": -2.0159793, \"3\": 0.3659877, \"4\": -0.069383904, \"5\": 0.097713396}\n",
    "                      ])\n",
    "    \n",
    "print(\"## DATA ##\")\n",
    "print(test_data)\n",
    "print(\"##########\\n\")"
   ]
  },
  {
   "cell_type": "code",
   "execution_count": 8,
   "metadata": {},
   "outputs": [
    {
     "name": "stdout",
     "output_type": "stream",
     "text": [
      "Status Code :  200\n",
      "Time needed :  0:00:00.079042\n",
      "Prediction : {\"Immobile\": \"1\", \"Marcher\": \"2\"}\n"
     ]
    }
   ],
   "source": [
    "response = requests.post(scoring_uri, data=test_data, headers=headers)\n",
    "print(\"Status Code : \", response.status_code)\n",
    "print(\"Time needed : \", response.elapsed)\n",
    "print(\"Prediction :\", response.json())"
   ]
  }
 ],
 "metadata": {
  "kernelspec": {
   "display_name": "Python 3.6 - AzureML",
   "language": "python",
   "name": "python3-azureml"
  },
  "language_info": {
   "codemirror_mode": {
    "name": "ipython",
    "version": 3
   },
   "file_extension": ".py",
   "mimetype": "text/x-python",
   "name": "python",
   "nbconvert_exporter": "python",
   "pygments_lexer": "ipython3",
   "version": "3.6.9"
  }
 },
 "nbformat": 4,
 "nbformat_minor": 4
}
